{
  "nbformat": 4,
  "nbformat_minor": 0,
  "metadata": {
    "colab": {
      "provenance": [],
      "gpuType": "T4",
      "authorship_tag": "ABX9TyO55XWZcsvG8BBp4qpOGSQa",
      "include_colab_link": true
    },
    "kernelspec": {
      "name": "python3",
      "display_name": "Python 3"
    },
    "language_info": {
      "name": "python"
    },
    "accelerator": "GPU"
  },
  "cells": [
    {
      "cell_type": "markdown",
      "metadata": {
        "id": "view-in-github",
        "colab_type": "text"
      },
      "source": [
        "<a href=\"https://colab.research.google.com/github/FelipeFerAl/TAM-2025-2/blob/main/ClassExercises/EjerciciosCuaderno7.ipynb\" target=\"_parent\"><img src=\"https://colab.research.google.com/assets/colab-badge.svg\" alt=\"Open In Colab\"/></a>"
      ]
    },
    {
      "cell_type": "markdown",
      "source": [
        "#Ejercicio 1"
      ],
      "metadata": {
        "id": "XpCGtEBmtYPb"
      }
    },
    {
      "cell_type": "code",
      "execution_count": 1,
      "metadata": {
        "id": "h3IdQXdufIO_"
      },
      "outputs": [],
      "source": [
        "from IPython.display import clear_output\n",
        "\n",
        "# Importar todas las librerias necesarias instalando RAPIDS en el entorno Colab\n",
        "!git clone https://github.com/rapidsai/rapidsai-csp-utils.git\n",
        "!python rapidsai-csp-utils/colab/pip-install.py\n",
        "\n",
        "#Importar imagen\n",
        "FILEID = \"1KENM6BW5UjRoSjnWmuBP_MS_NrC0cefP\"\n",
        "!wget --load-cookies /tmp/cookies.txt \"https://docs.google.com/uc?export=download&confirm=$(wget --quiet --save-cookies /tmp/cookies.txt --keep-session-cookies --no-check-certificate 'https://docs.google.com/uc?export=download&id='$FILEID -O- | sed -rn 's/.*confirm=([0-9A-Za-z_]+).*/\\1\\n/p')&id=\"$FILEID -O tanjiro.jpeg && rm -rf /tmp/cookies.txt\n",
        "\n",
        "import cv2\n",
        "import cudf\n",
        "import cupy as cp\n",
        "import numpy as np\n",
        "import matplotlib.pyplot as plt\n",
        "from cuml.cluster import KMeans, DBSCAN\n",
        "from sklearn.cluster import SpectralClustering\n",
        "from cuml.metrics.cluster import silhouette_score\n",
        "\n",
        "clear_output()"
      ]
    },
    {
      "cell_type": "code",
      "source": [
        "image_cpu = cv2.imread(\"tanjiro.jpeg\")\n",
        "image_cpu = cv2.cvtColor(image_cpu, cv2.COLOR_BGR2RGB)  # convert to RGB\n",
        "\n",
        "image = cp.asarray(image_cpu)\n",
        "image_small = cv2.resize(image_cpu, (100, 100), interpolation=cv2.INTER_AREA)\n",
        "image_small_gpu = cp.asarray(image_small)\n",
        "\n",
        "print(type(image))\n",
        "print(image.shape)"
      ],
      "metadata": {
        "colab": {
          "base_uri": "https://localhost:8080/"
        },
        "id": "5S53d_uDtWFk",
        "outputId": "9e5b2ed2-4bbe-491c-b5a8-1888ea007c47"
      },
      "execution_count": 2,
      "outputs": [
        {
          "output_type": "stream",
          "name": "stdout",
          "text": [
            "<class 'cupy.ndarray'>\n",
            "(225, 225, 3)\n"
          ]
        }
      ]
    },
    {
      "cell_type": "code",
      "source": [
        "# --- Load & reshape image ---\n",
        "r, c, ch = image.shape\n",
        "pixels = image.reshape(-1, 3).astype(cp.float32)\n",
        "\n",
        "# --- Add spatial coordinates ---\n",
        "ys_flat = cp.repeat(cp.arange(r), c)[:, None]\n",
        "xs_flat = cp.tile(cp.arange(c), r)[:, None]\n",
        "coords = cp.hstack([xs_flat, ys_flat]).astype(cp.float32)\n",
        "\n",
        "# Combine [R, G, B, x, y]\n",
        "X = cp.hstack([pixels, coords])\n",
        "\n",
        "# Convert to cuDF for RAPIDS clustering\n",
        "X_df = cudf.DataFrame(X, columns=[\"R\", \"G\", \"B\", \"x\", \"y\"])\n",
        "\n",
        "# --- Parameters ---\n",
        "kmeans_group = [3, 5, 7, 9]\n",
        "results = []\n",
        "\n",
        "# --- KMeans comparison ---\n",
        "for k in kmeans_group:\n",
        "  kmeans = KMeans(n_clusters=k, random_state=42)\n",
        "  kmeans.fit(X_df)\n",
        "  labels = kmeans.labels_\n",
        "\n",
        "  inertia = float(kmeans.inertia_)  # only KMeans has inertia\n",
        "  sil = float(silhouette_score(X_df, labels))\n",
        "  results.append((\"KMeans\", k, inertia, sil))"
      ],
      "metadata": {
        "id": "1AU3Yv_YVsVP"
      },
      "execution_count": 3,
      "outputs": []
    },
    {
      "cell_type": "code",
      "source": [
        "# --- DBSCAN ---\n",
        "dbscan = DBSCAN(eps=20, min_samples=10)\n",
        "labels_db = dbscan.fit_predict(X_df)\n",
        "sil_db = float(silhouette_score(X_df, labels_db))\n",
        "results.append((\"DBSCAN\", \"-\", None, sil_db))"
      ],
      "metadata": {
        "colab": {
          "base_uri": "https://localhost:8080/"
        },
        "id": "4MNMmLoMbtHG",
        "outputId": "7e499645-e897-4577-dda5-cbe94ed5f9f9"
      },
      "execution_count": 4,
      "outputs": [
        {
          "output_type": "stream",
          "name": "stdout",
          "text": [
            "[2025-10-26 14:50:46.056] [CUML] [info] Batch size limited by the chosen integer type (4 bytes). 50016 -> 42419. Using the larger integer type might result in better performance\n"
          ]
        }
      ]
    },
    {
      "cell_type": "code",
      "source": [
        "# --- Show results ---\n",
        "import pandas as pd\n",
        "df_results = pd.DataFrame(results, columns=[\"Method\", \"k\", \"Inertia\", \"Silhouette\"])\n",
        "print(df_results)\n",
        "\n",
        "# --- Plot Silhouette comparison ---\n",
        "plt.figure(figsize=(7,4))\n",
        "plt.bar(df_results[\"Method\"].astype(str) + \"_\" + df_results[\"k\"].astype(str), df_results[\"Silhouette\"])\n",
        "plt.title(\"Silhouette Score Comparison (cuML)\")\n",
        "plt.ylabel(\"Silhouette Score\")\n",
        "plt.xticks(rotation=30)\n",
        "plt.show()"
      ],
      "metadata": {
        "id": "YbCcSHm_bwOV",
        "colab": {
          "base_uri": "https://localhost:8080/",
          "height": 528
        },
        "outputId": "302ee3d8-4227-4b02-9ba3-d5274d75c02f"
      },
      "execution_count": 5,
      "outputs": [
        {
          "output_type": "stream",
          "name": "stdout",
          "text": [
            "   Method  k      Inertia  Silhouette\n",
            "0  KMeans  3  360555584.0    0.365001\n",
            "1  KMeans  5  201570176.0    0.439510\n",
            "2  KMeans  7  124719760.0    0.455462\n",
            "3  KMeans  9   99502176.0    0.418630\n",
            "4  DBSCAN  -          NaN   -0.029952\n"
          ]
        },
        {
          "output_type": "display_data",
          "data": {
            "text/plain": [
              "<Figure size 700x400 with 1 Axes>"
            ],
            "image/png": "[encoded data removed]"
          },
          "metadata": {}
        }
      ]
    },
    {
      "cell_type": "markdown",
      "source": [
        "#Ejercicio 2"
      ],
      "metadata": {
        "id": "kbDkAWbstWJs"
      }
    },
    {
      "cell_type": "code",
      "source": [
        "from cuml.manifold import UMAP\n",
        "import cupyx.scipy.sparse as sp\n",
        "from cuml.decomposition import PCA\n",
        "import cupyx.scipy.sparse.linalg as spla\n",
        "from cuml.neighbors import NearestNeighbors\n",
        "\n",
        "pca_2d = PCA(n_components=2)\n",
        "X_pca = pca_2d.fit_transform(X)\n",
        "\n",
        "umap_2d = UMAP(n_components=2, n_neighbors=15, min_dist=0.1)\n",
        "X_umap = umap_2d.fit_transform(X)"
      ],
      "metadata": {
        "colab": {
          "base_uri": "https://localhost:8080/"
        },
        "id": "1kn4wxrytcJV",
        "outputId": "36816aed-564e-4f22-caf1-0dc6c66300e1"
      },
      "execution_count": 6,
      "outputs": [
        {
          "output_type": "stream",
          "name": "stdout",
          "text": [
            "[2025-10-26 14:50:46.850] [CUML] [info] Building knn graph using nn descent (configured from build_algo='auto')\n"
          ]
        }
      ]
    },
    {
      "cell_type": "code",
      "source": [
        "# --- Parameters ---\n",
        "projections = {'PCA': X_pca, 'UMAP': X_umap}\n",
        "kmeans_group = [3, 5, 7, 9]\n",
        "results2 = []\n",
        "\n",
        "# --- KMeans comparison ---\n",
        "for proj_name, X_proj in projections.items():\n",
        "  for k in kmeans_group:\n",
        "    kmeans = KMeans(n_clusters=k, random_state=42)\n",
        "    kmeans.fit(X_proj)\n",
        "    labels = kmeans.labels_\n",
        "\n",
        "    inertia = float(kmeans.inertia_)  # only KMeans has inertia\n",
        "    sil = float(silhouette_score(X_proj, labels))\n",
        "    results2.append((\"KMeans\", proj_name,k, inertia, sil))"
      ],
      "metadata": {
        "id": "AlOiK3uG3EV7"
      },
      "execution_count": 7,
      "outputs": []
    },
    {
      "cell_type": "code",
      "source": [
        "# --- DBSCAN ---\n",
        "for proj_name, X_proj in projections.items():\n",
        "  dbscan = DBSCAN(eps=20, min_samples=5)\n",
        "  labels_db = dbscan.fit_predict(X_proj)\n",
        "\n",
        "  unique_labels = np.unique(cp.asnumpy(labels))\n",
        "  valid_labels = unique_labels[unique_labels != -1]\n",
        "  if len(valid_labels) > 1:\n",
        "      sil = float(silhouette_score(cp.asnumpy(X_proj), cp.asnumpy(labels)))\n",
        "  else:\n",
        "      sil = -1  # invalid silhouette\n",
        "  results2.append((\"DBSCAN\", proj_name, None, sil))"
      ],
      "metadata": {
        "colab": {
          "base_uri": "https://localhost:8080/"
        },
        "id": "_kYQRlWb-SeT",
        "outputId": "1a0b342c-29f6-4de2-9094-d06d623fd76b"
      },
      "execution_count": 8,
      "outputs": [
        {
          "output_type": "stream",
          "name": "stdout",
          "text": [
            "[2025-10-26 14:50:52.775] [CUML] [info] Batch size limited by the chosen integer type (4 bytes). 50020 -> 42419. Using the larger integer type might result in better performance\n",
            "[2025-10-26 14:50:53.360] [CUML] [info] Batch size limited by the chosen integer type (4 bytes). 50020 -> 42419. Using the larger integer type might result in better performance\n"
          ]
        }
      ]
    },
    {
      "cell_type": "code",
      "source": [
        "df_results2 = pd.DataFrame(results2, columns=[\"Method\", \"Projection\", \"k\", \"Inertia\", \"Silhouette\"])\n",
        "print(df_results2)\n",
        "\n",
        "plt.figure(figsize=(7,4))\n",
        "plt.bar(df_results2[\"Projection\"].astype(str)+df_results2[\"Method\"].astype(str) + \"_\" + df_results2[\"k\"].astype(str), df_results2[\"Silhouette\"])\n",
        "plt.title(\"Silhouette Score Comparison (cuML)\")\n",
        "plt.ylabel(\"Silhouette Score\")\n",
        "plt.xticks(rotation=30)\n",
        "plt.show()"
      ],
      "metadata": {
        "colab": {
          "base_uri": "https://localhost:8080/",
          "height": 641
        },
        "id": "Py2_wJu632RO",
        "outputId": "6d0a436f-bd94-4903-e244-1d039b16c814"
      },
      "execution_count": 9,
      "outputs": [
        {
          "output_type": "stream",
          "name": "stdout",
          "text": [
            "   Method Projection    k       Inertia  Silhouette\n",
            "0  KMeans        PCA  3.0  1.415644e+08    0.548138\n",
            "1  KMeans        PCA  5.0  7.395066e+07    0.573627\n",
            "2  KMeans        PCA  7.0  5.774802e+07    0.556651\n",
            "3  KMeans        PCA  9.0  3.088499e+07    0.562145\n",
            "4  KMeans       UMAP  3.0  1.718285e+06    0.419178\n",
            "5  KMeans       UMAP  5.0  1.103102e+06    0.360919\n",
            "6  KMeans       UMAP  7.0  7.445535e+05    0.390069\n",
            "7  KMeans       UMAP  9.0  5.364282e+05    0.409273\n",
            "8  DBSCAN        PCA  NaN -1.742386e-01         NaN\n",
            "9  DBSCAN       UMAP  NaN  4.092734e-01         NaN\n"
          ]
        },
        {
          "output_type": "display_data",
          "data": {
            "text/plain": [
              "<Figure size 700x400 with 1 Axes>"
            ],
            "image/png": "[encoded data removed]"
          },
          "metadata": {}
        }
      ]
    }
  ]
}